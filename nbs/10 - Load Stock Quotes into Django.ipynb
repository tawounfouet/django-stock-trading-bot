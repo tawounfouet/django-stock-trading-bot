{
 "cells": [
  {
   "cell_type": "code",
   "execution_count": 1,
   "id": "e85ed483-d2ef-4920-a1b5-51dd0eddf4a6",
   "metadata": {},
   "outputs": [],
   "source": [
    "import setup\n",
    "setup.init_django()"
   ]
  },
  {
   "cell_type": "code",
   "execution_count": 2,
   "id": "da110c89-fc4d-4751-840b-2a95891c50bf",
   "metadata": {},
   "outputs": [],
   "source": [
    "import helpers.clients as helper_clients"
   ]
  },
  {
   "cell_type": "code",
   "execution_count": 3,
   "id": "15cec661-367b-45d0-a99d-919aaf786956",
   "metadata": {},
   "outputs": [],
   "source": [
    "company_name = \"Apple\"\n",
    "company_ticker = \"AAPL\"\n",
    "multiplier = 1\n",
    "from_date = \"2023-01-09\"\n",
    "to_date = \"2023-01-09\""
   ]
  },
  {
   "cell_type": "code",
   "execution_count": 4,
   "id": "ee0918d4-50a3-41f2-b00c-2c125ddeeeea",
   "metadata": {},
   "outputs": [],
   "source": [
    "client = helper_clients.PolygonAPIClient(\n",
    "    ticker=company_ticker,\n",
    "    multiplier=multiplier,\n",
    "    from_date=from_date,\n",
    "    to_date=to_date\n",
    ")\n",
    "dataset = client.get_stock_data()"
   ]
  },
  {
   "cell_type": "code",
   "execution_count": 5,
   "id": "2de9b700-1002-480b-812d-6efd3c731ee8",
   "metadata": {},
   "outputs": [
    {
     "data": {
      "text/plain": [
       "{'open_price': 129.6,\n",
       " 'close_price': 129.89,\n",
       " 'high_price': 130.3,\n",
       " 'low_price': 129.6,\n",
       " 'number_of_trades': 85,\n",
       " 'volume': 2312,\n",
       " 'volume_weighted_average': 129.8763,\n",
       " 'raw_timestamp': 1673254800000,\n",
       " 'time': datetime.datetime(2023, 1, 9, 9, 0, tzinfo=<UTC>)}"
      ]
     },
     "execution_count": 5,
     "metadata": {},
     "output_type": "execute_result"
    }
   ],
   "source": [
    "new_stock_data = dataset[0]\n",
    "new_stock_data"
   ]
  },
  {
   "cell_type": "code",
   "execution_count": 6,
   "id": "b141e54a-9f1e-4538-b7d6-a4ad6d047066",
   "metadata": {},
   "outputs": [],
   "source": [
    "from market.models import Company, StockQuote"
   ]
  },
  {
   "cell_type": "code",
   "execution_count": 7,
   "id": "265e2daa-3a3a-4670-83eb-a0779a98ab72",
   "metadata": {},
   "outputs": [],
   "source": [
    "company_obj, created = Company.objects.get_or_create(name=company_name, ticker=company_ticker)"
   ]
  },
  {
   "cell_type": "code",
   "execution_count": 8,
   "id": "71687c75-33fd-4ad6-8e5e-11f71251745d",
   "metadata": {},
   "outputs": [
    {
     "data": {
      "text/plain": [
       "<Company: Company object (1)>"
      ]
     },
     "execution_count": 8,
     "metadata": {},
     "output_type": "execute_result"
    }
   ],
   "source": [
    "company_obj"
   ]
  },
  {
   "cell_type": "code",
   "execution_count": 9,
   "id": "c781ee86-155e-4cb7-ab3c-383a7496e3be",
   "metadata": {},
   "outputs": [
    {
     "data": {
      "text/plain": [
       "<StockQuote: StockQuote object (1)>"
      ]
     },
     "execution_count": 9,
     "metadata": {},
     "output_type": "execute_result"
    }
   ],
   "source": [
    "StockQuote.objects.create(company=company_obj, **new_stock_data)"
   ]
  },
  {
   "cell_type": "code",
   "execution_count": null,
   "id": "058609c2-8f04-492b-9121-4ac8ecded050",
   "metadata": {},
   "outputs": [],
   "source": []
  }
 ],
 "metadata": {
  "kernelspec": {
   "display_name": "Python 3 (ipykernel)",
   "language": "python",
   "name": "python3"
  },
  "language_info": {
   "codemirror_mode": {
    "name": "ipython",
    "version": 3
   },
   "file_extension": ".py",
   "mimetype": "text/x-python",
   "name": "python",
   "nbconvert_exporter": "python",
   "pygments_lexer": "ipython3",
   "version": "3.12.1"
  }
 },
 "nbformat": 4,
 "nbformat_minor": 5
}
