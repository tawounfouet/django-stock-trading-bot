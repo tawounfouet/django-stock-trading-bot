{
 "cells": [
  {
   "cell_type": "code",
   "execution_count": 1,
   "id": "f037d501-ba41-4a68-ba0c-26bb0d9c4ef3",
   "metadata": {},
   "outputs": [],
   "source": [
    "from decouple import config"
   ]
  },
  {
   "cell_type": "code",
   "execution_count": 8,
   "id": "e20f50e1-23d9-496c-a778-aeb8f2dd2957",
   "metadata": {},
   "outputs": [],
   "source": [
    "assert config(\"POLOGYON_API_KEY\", default=None, cast=str) is not None"
   ]
  },
  {
   "cell_type": "code",
   "execution_count": null,
   "id": "5863d4d8-12d4-44e9-a83d-eef2898fde36",
   "metadata": {},
   "outputs": [],
   "source": []
  },
  {
   "cell_type": "code",
   "execution_count": 6,
   "id": "501e7dec-eb21-4250-9591-dcc4ca458bff",
   "metadata": {},
   "outputs": [],
   "source": [
    "import requests"
   ]
  },
  {
   "cell_type": "code",
   "execution_count": 5,
   "id": "be67ddf1-6de0-4d1d-85af-20acdaca608f",
   "metadata": {},
   "outputs": [],
   "source": [
    "ticker = \"AAPL\"\n",
    "multiplier = \"5\"\n",
    "timespan = \"minute\"\n",
    "from_date = \"2023-01-09\"\n",
    "to_date = \"2023-01-09\"\n",
    "path = f\"/v2/aggs/ticker/{ticker}/range/{multiplier}/{timespan}/{from_date}/{to_date}\"\n",
    "url = f\"https://api.polygon.io{path}?apiKey={POLOGYON_API_KEY}\""
   ]
  },
  {
   "cell_type": "code",
   "execution_count": 9,
   "id": "7f85a3aa-5834-4285-af88-b7cf187eea5e",
   "metadata": {},
   "outputs": [],
   "source": [
    "import pytz\n",
    "from dataclasses import dataclass\n",
    "from typing import Literal\n",
    "from urllib.parse import urlencode\n",
    "from datetime import datetime\n",
    "\n",
    "POLOGYON_API_KEY = config(\"POLOGYON_API_KEY\", default=None, cast=str)\n",
    "\n",
    "\n",
    "\n",
    "\n",
    "def transform_polygon_result(result):\n",
    "    unix_timestamp = result.get('t') / 1000.0\n",
    "    utc_timestamp = datetime.fromtimestamp(unix_timestamp, tz=pytz.timezone('UTC'))\n",
    "    return {\n",
    "        'open_price': result['o'],\n",
    "        'close_price': result['c'],\n",
    "        'high_price': result['h'],\n",
    "        'low_price': result['l'],\n",
    "        'number_of_trades': result['n'],\n",
    "        'volume': result['v'],\n",
    "        'volume_weighted_average': result['vw'],\n",
    "        'time': utc_timestamp,\n",
    "    }\n",
    "\n",
    "\n",
    "@dataclass\n",
    "class PolygonAPIClient:\n",
    "    ticker: str = \"AAPL\"\n",
    "    multiplier: int = 5\n",
    "    timespan:str = \"minute\"\n",
    "    from_date:str = \"2024-01-09\"\n",
    "    to_date:str = \"2024-01-09\"\n",
    "    api_key:str = \"\"\n",
    "    adjusted: bool = True \n",
    "    sort: Literal[\"asc\", \"desc\"] = \"asc\"\n",
    "\n",
    "    def get_api_key(self):\n",
    "        return self.api_key or POLOGYON_API_KEY\n",
    "\n",
    "    def get_headers(self):\n",
    "        api_key = self.get_api_key()\n",
    "        return {\n",
    "            \"Authorization\": f\"Bearer {api_key}\"\n",
    "        }\n",
    "\n",
    "    def get_params(self):\n",
    "        return {\n",
    "            \"adjusted\": self.adjusted,\n",
    "            \"sort\": self.sort\n",
    "        }\n",
    "    \n",
    "    def generate_url(self, pass_auth=False):\n",
    "        path = f\"/v2/aggs/ticker/{self.ticker}/range/{self.multiplier}/{self.timespan}/{self.from_date}/{self.to_date}\"\n",
    "        url = f\"https://api.polygon.io{path}\"\n",
    "        params = self.get_params()\n",
    "        encoded_params = urlencode(params)\n",
    "        url = f\"{url}?{encoded_params}\"\n",
    "        if pass_auth:\n",
    "            api_key = self.get_api_key()\n",
    "            url += f\"&api_key={api_key}\"\n",
    "        return url\n",
    "\n",
    "    def fetch_data(self):\n",
    "        headers = self.get_headers()\n",
    "        url = self.generate_url()\n",
    "        response = requests.get(url, headers=headers)\n",
    "        response.raise_for_status() # not 200/201\n",
    "        return response.json()\n",
    "\n",
    "    def get_stock_data(self):\n",
    "        data = self.fetch_data()\n",
    "        results = data['results']\n",
    "        dataset = []\n",
    "        for result in results:\n",
    "            dataset.append(\n",
    "                transform_polygon_result(result)\n",
    "            )\n",
    "        return dataset\n",
    "        "
   ]
  },
  {
   "cell_type": "code",
   "execution_count": 10,
   "id": "edf96624-9aa4-45d9-ba53-d3df44313baf",
   "metadata": {},
   "outputs": [
    {
     "data": {
      "text/plain": [
       "'https://api.polygon.io/v2/aggs/ticker/GOOG/range/1/minute/2024-01-09/2024-01-09?adjusted=True&sort=asc'"
      ]
     },
     "execution_count": 10,
     "metadata": {},
     "output_type": "execute_result"
    }
   ],
   "source": [
    "stock_api_client = PolygonAPIClient(ticker=\"GOOG\", multiplier=1)\n",
    "stock_api_client.generate_url()"
   ]
  },
  {
   "cell_type": "code",
   "execution_count": 7,
   "id": "d8565564-2426-412c-abb3-193114fb86a4",
   "metadata": {
    "scrolled": true
   },
   "outputs": [
    {
     "ename": "HTTPError",
     "evalue": "401 Client Error: Unauthorized for url: https://api.polygon.io/v2/aggs/ticker/GOOG/range/1/minute/2024-01-09/2024-01-09?adjusted=True&sort=asc",
     "output_type": "error",
     "traceback": [
      "\u001b[0;31m---------------------------------------------------------------------------\u001b[0m",
      "\u001b[0;31mHTTPError\u001b[0m                                 Traceback (most recent call last)",
      "Cell \u001b[0;32mIn[7], line 1\u001b[0m\n\u001b[0;32m----> 1\u001b[0m dataset \u001b[38;5;241m=\u001b[39m \u001b[43mstock_api_client\u001b[49m\u001b[38;5;241;43m.\u001b[39;49m\u001b[43mget_stock_data\u001b[49m\u001b[43m(\u001b[49m\u001b[43m)\u001b[49m\n\u001b[1;32m      2\u001b[0m dataset\n",
      "Cell \u001b[0;32mIn[3], line 72\u001b[0m, in \u001b[0;36mPolygonAPIClient.get_stock_data\u001b[0;34m(self)\u001b[0m\n\u001b[1;32m     71\u001b[0m \u001b[38;5;28;01mdef\u001b[39;00m \u001b[38;5;21mget_stock_data\u001b[39m(\u001b[38;5;28mself\u001b[39m):\n\u001b[0;32m---> 72\u001b[0m     data \u001b[38;5;241m=\u001b[39m \u001b[38;5;28;43mself\u001b[39;49m\u001b[38;5;241;43m.\u001b[39;49m\u001b[43mfetch_data\u001b[49m\u001b[43m(\u001b[49m\u001b[43m)\u001b[49m\n\u001b[1;32m     73\u001b[0m     results \u001b[38;5;241m=\u001b[39m data[\u001b[38;5;124m'\u001b[39m\u001b[38;5;124mresults\u001b[39m\u001b[38;5;124m'\u001b[39m]\n\u001b[1;32m     74\u001b[0m     dataset \u001b[38;5;241m=\u001b[39m []\n",
      "Cell \u001b[0;32mIn[3], line 68\u001b[0m, in \u001b[0;36mPolygonAPIClient.fetch_data\u001b[0;34m(self)\u001b[0m\n\u001b[1;32m     66\u001b[0m url \u001b[38;5;241m=\u001b[39m \u001b[38;5;28mself\u001b[39m\u001b[38;5;241m.\u001b[39mgenerate_url()\n\u001b[1;32m     67\u001b[0m response \u001b[38;5;241m=\u001b[39m requests\u001b[38;5;241m.\u001b[39mget(url, headers\u001b[38;5;241m=\u001b[39mheaders)\n\u001b[0;32m---> 68\u001b[0m \u001b[43mresponse\u001b[49m\u001b[38;5;241;43m.\u001b[39;49m\u001b[43mraise_for_status\u001b[49m\u001b[43m(\u001b[49m\u001b[43m)\u001b[49m \u001b[38;5;66;03m# not 200/201\u001b[39;00m\n\u001b[1;32m     69\u001b[0m \u001b[38;5;28;01mreturn\u001b[39;00m response\u001b[38;5;241m.\u001b[39mjson()\n",
      "File \u001b[0;32m~/.local/lib/python3.12/site-packages/requests/models.py:1024\u001b[0m, in \u001b[0;36mResponse.raise_for_status\u001b[0;34m(self)\u001b[0m\n\u001b[1;32m   1019\u001b[0m     http_error_msg \u001b[38;5;241m=\u001b[39m (\n\u001b[1;32m   1020\u001b[0m         \u001b[38;5;124mf\u001b[39m\u001b[38;5;124m\"\u001b[39m\u001b[38;5;132;01m{\u001b[39;00m\u001b[38;5;28mself\u001b[39m\u001b[38;5;241m.\u001b[39mstatus_code\u001b[38;5;132;01m}\u001b[39;00m\u001b[38;5;124m Server Error: \u001b[39m\u001b[38;5;132;01m{\u001b[39;00mreason\u001b[38;5;132;01m}\u001b[39;00m\u001b[38;5;124m for url: \u001b[39m\u001b[38;5;132;01m{\u001b[39;00m\u001b[38;5;28mself\u001b[39m\u001b[38;5;241m.\u001b[39murl\u001b[38;5;132;01m}\u001b[39;00m\u001b[38;5;124m\"\u001b[39m\n\u001b[1;32m   1021\u001b[0m     )\n\u001b[1;32m   1023\u001b[0m \u001b[38;5;28;01mif\u001b[39;00m http_error_msg:\n\u001b[0;32m-> 1024\u001b[0m     \u001b[38;5;28;01mraise\u001b[39;00m HTTPError(http_error_msg, response\u001b[38;5;241m=\u001b[39m\u001b[38;5;28mself\u001b[39m)\n",
      "\u001b[0;31mHTTPError\u001b[0m: 401 Client Error: Unauthorized for url: https://api.polygon.io/v2/aggs/ticker/GOOG/range/1/minute/2024-01-09/2024-01-09?adjusted=True&sort=asc"
     ]
    }
   ],
   "source": [
    "dataset = stock_api_client.get_stock_data()\n",
    "dataset"
   ]
  },
  {
   "cell_type": "code",
   "execution_count": null,
   "id": "2e14d90e-c2fe-43ca-a970-096ad8a4f822",
   "metadata": {},
   "outputs": [],
   "source": [
    "import pandas as pd\n",
    "\n",
    "# Load the JSON data into a pandas DataFrame\n",
    "df = pd.json_normalize(dataset)\n",
    "\n",
    "# Display the DataFrame\n",
    "display(df)"
   ]
  }
 ],
 "metadata": {
  "kernelspec": {
   "display_name": "Python 3 (ipykernel)",
   "language": "python",
   "name": "python3"
  },
  "language_info": {
   "codemirror_mode": {
    "name": "ipython",
    "version": 3
   },
   "file_extension": ".py",
   "mimetype": "text/x-python",
   "name": "python",
   "nbconvert_exporter": "python",
   "pygments_lexer": "ipython3",
   "version": "3.12.1"
  }
 },
 "nbformat": 4,
 "nbformat_minor": 5
}
